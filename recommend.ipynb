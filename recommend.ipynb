{
 "cells": [
  {
   "cell_type": "code",
   "execution_count": 1,
   "metadata": {},
   "outputs": [],
   "source": [
    "import pandas as pd\n",
    "import numpy as np"
   ]
  },
  {
   "cell_type": "code",
   "execution_count": null,
   "metadata": {},
   "outputs": [],
   "source": [
    "products = pd.read_csv('product_data.csv', names = ['name' , '종류' ,'링크' , '할인' , '정상가' , '할인가' , '리뷰개수' , '평점'])\n",
    "\n",
    "products.set_index('name', inplace= True)\n",
    "\n",
    "products\n"
   ]
  },
  {
   "cell_type": "code",
   "execution_count": 160,
   "metadata": {},
   "outputs": [
    {
     "data": {
      "text/html": [
       "<div>\n",
       "<style scoped>\n",
       "    .dataframe tbody tr th:only-of-type {\n",
       "        vertical-align: middle;\n",
       "    }\n",
       "\n",
       "    .dataframe tbody tr th {\n",
       "        vertical-align: top;\n",
       "    }\n",
       "\n",
       "    .dataframe thead th {\n",
       "        text-align: right;\n",
       "    }\n",
       "</style>\n",
       "<table border=\"1\" class=\"dataframe\">\n",
       "  <thead>\n",
       "    <tr style=\"text-align: right;\">\n",
       "      <th></th>\n",
       "      <th>리뷰개수</th>\n",
       "      <th>평점</th>\n",
       "    </tr>\n",
       "    <tr>\n",
       "      <th>name</th>\n",
       "      <th></th>\n",
       "      <th></th>\n",
       "    </tr>\n",
       "  </thead>\n",
       "  <tbody>\n",
       "    <tr>\n",
       "      <th>코멧스포츠풀업밴드중,퍼플,중(2단계)</th>\n",
       "      <td>5021</td>\n",
       "      <td>5.0</td>\n",
       "    </tr>\n",
       "    <tr>\n",
       "      <th>코멧스포츠풀업밴드강,그린,강(3단계)</th>\n",
       "      <td>3710</td>\n",
       "      <td>5.0</td>\n",
       "    </tr>\n",
       "    <tr>\n",
       "      <th>트라택릴리즈마사지볼기본형,레드,1개</th>\n",
       "      <td>3591</td>\n",
       "      <td>5.0</td>\n",
       "    </tr>\n",
       "    <tr>\n",
       "      <th>트라택릴리즈마사지볼기본형,스카이블루,1개</th>\n",
       "      <td>3591</td>\n",
       "      <td>5.0</td>\n",
       "    </tr>\n",
       "    <tr>\n",
       "      <th>트라택릴리즈마사지볼기본형,그레이,1개</th>\n",
       "      <td>3591</td>\n",
       "      <td>5.0</td>\n",
       "    </tr>\n",
       "    <tr>\n",
       "      <th>...</th>\n",
       "      <td>...</td>\n",
       "      <td>...</td>\n",
       "    </tr>\n",
       "    <tr>\n",
       "      <th>이지홈트필라테스미니짐볼,로즈골드</th>\n",
       "      <td>0</td>\n",
       "      <td>0.0</td>\n",
       "    </tr>\n",
       "    <tr>\n",
       "      <th>1&amp;1릴렉스요가링안다르,샤이핑크_(EJFST-02DPK)</th>\n",
       "      <td>0</td>\n",
       "      <td>0.0</td>\n",
       "    </tr>\n",
       "    <tr>\n",
       "      <th>스포츠팔운동밴드팔뚝살날개살다이어트압박밴드,LD-096-1팔압박밴드/스킨/free</th>\n",
       "      <td>0</td>\n",
       "      <td>0.0</td>\n",
       "    </tr>\n",
       "    <tr>\n",
       "      <th>스트레칭용젤리밴드,{\"종류\":\"스트레칭용젤리밴드(약국용)\"}</th>\n",
       "      <td>0</td>\n",
       "      <td>0.0</td>\n",
       "    </tr>\n",
       "    <tr>\n",
       "      <th>가정용필라테스레더래더콤비아크체어바렐베럴홈레더홈바렐접이식폴딩리포머</th>\n",
       "      <td>0</td>\n",
       "      <td>0.0</td>\n",
       "    </tr>\n",
       "  </tbody>\n",
       "</table>\n",
       "<p>2040 rows × 2 columns</p>\n",
       "</div>"
      ],
      "text/plain": [
       "                                              리뷰개수   평점\n",
       "name                                                   \n",
       "코멧스포츠풀업밴드중,퍼플,중(2단계)                          5021  5.0\n",
       "코멧스포츠풀업밴드강,그린,강(3단계)                          3710  5.0\n",
       "트라택릴리즈마사지볼기본형,레드,1개                           3591  5.0\n",
       "트라택릴리즈마사지볼기본형,스카이블루,1개                        3591  5.0\n",
       "트라택릴리즈마사지볼기본형,그레이,1개                          3591  5.0\n",
       "...                                            ...  ...\n",
       "이지홈트필라테스미니짐볼,로즈골드                                0  0.0\n",
       "1&1릴렉스요가링안다르,샤이핑크_(EJFST-02DPK)                  0  0.0\n",
       "스포츠팔운동밴드팔뚝살날개살다이어트압박밴드,LD-096-1팔압박밴드/스킨/free     0  0.0\n",
       "스트레칭용젤리밴드,{\"종류\":\"스트레칭용젤리밴드(약국용)\"}                0  0.0\n",
       "가정용필라테스레더래더콤비아크체어바렐베럴홈레더홈바렐접이식폴딩리포머              0  0.0\n",
       "\n",
       "[2040 rows x 2 columns]"
      ]
     },
     "execution_count": 160,
     "metadata": {},
     "output_type": "execute_result"
    }
   ],
   "source": [
    "ratings = products[products['종류']=='근력운동'][['리뷰개수','평점']]\n",
    "\n",
    "ratings = ratings.sort_values(['평점','리뷰개수'],ascending=False)\n",
    "\n",
    "ratings"
   ]
  },
  {
   "cell_type": "code",
   "execution_count": 166,
   "metadata": {},
   "outputs": [
    {
     "data": {
      "text/plain": [
       "['코멧스포츠풀업밴드중,퍼플,중(2단계)',\n",
       " '코멧스포츠풀업밴드강,그린,강(3단계)',\n",
       " '트라택릴리즈마사지볼기본형,레드,1개',\n",
       " '트라택릴리즈마사지볼기본형,스카이블루,1개',\n",
       " '트라택릴리즈마사지볼기본형,그레이,1개',\n",
       " '스포뱅크고밀도크롬도금아령,10kg,1개',\n",
       " '스포뱅크고밀도크롬도금아령,5kg,1개',\n",
       " '스포뱅크고밀도크롬도금아령,8kg,1개',\n",
       " '스포뱅크고밀도크롬도금아령,7kg,1개',\n",
       " '스포뱅크고밀도크롬도금아령,1kg,1개']"
      ]
     },
     "execution_count": 166,
     "metadata": {},
     "output_type": "execute_result"
    }
   ],
   "source": [
    "a = ratings.index[:10]\n"
   ]
  }
 ],
 "metadata": {
  "interpreter": {
   "hash": "234f052233c79be27f5745c4191e287b35d01345535f738f4df81500e83027b7"
  },
  "kernelspec": {
   "display_name": "Python 3.9.7 ('pyenv39')",
   "language": "python",
   "name": "python3"
  },
  "language_info": {
   "codemirror_mode": {
    "name": "ipython",
    "version": 3
   },
   "file_extension": ".py",
   "mimetype": "text/x-python",
   "name": "python",
   "nbconvert_exporter": "python",
   "pygments_lexer": "ipython3",
   "version": "3.9.7"
  },
  "orig_nbformat": 4
 },
 "nbformat": 4,
 "nbformat_minor": 2
}
