{
 "cells": [
  {
   "cell_type": "code",
   "execution_count": 2,
   "metadata": {},
   "outputs": [],
   "source": [
    "#닭가슴살\n",
    "#다이어트 식단 도시락\n",
    "from bs4 import BeautifulSoup\n",
    "import requests"
   ]
  },
  {
   "cell_type": "code",
   "execution_count": 127,
   "metadata": {},
   "outputs": [
    {
     "data": {
      "text/plain": [
       "'27'"
      ]
     },
     "execution_count": 127,
     "metadata": {},
     "output_type": "execute_result"
    }
   ],
   "source": [
    "headers = {'User-Agent' : 'Mozilla/5.0 (Windows NT 10.0; Win64; x64)AppleWebKit/537.36 (KHTML, like Gecko) Chrome/73.0.3683.86 Safari/537.36'}\n",
    "\n",
    "food_category_list = ['닭가슴살','다이어트식단도시락']\n",
    "food_category_pages = {}\n",
    "\n",
    "\n",
    "for food_category in food_category_list:\n",
    "    url = f'https://www.coupang.com/np/search?component=&q={food_category}&channel=user'\n",
    "    res = requests.get(url)\n",
    "    text = res.text\n",
    "    soup = BeautifulSoup(text, 'html.parser')\n",
    "    all_page = soup.find('a', {'class':'btn-last disabled'}).text\n",
    "    food_category_pages[food_category] = all_page\n",
    "\n",
    "\n"
   ]
  },
  {
   "cell_type": "code",
   "execution_count": 120,
   "metadata": {},
   "outputs": [],
   "source": [
    "food_pages = []\n",
    "for food_category, pages in food_category_pages.items():\n",
    "    for page in range(1,int(pages)+1):\n",
    "        url = f'https://www.coupang.com/np/search?component=&q={food_category}&channel=user&listSize=72&page={page}'\n",
    "        res = requests.get(url)\n",
    "        text = res.text\n",
    "        soup = BeautifulSoup(text, 'html.parser')\n",
    "        ul  = soup.find(\"ul\", {\"id\":\"productList\"})\n",
    "        food_pages.append(ul.select('li.search-product'))"
   ]
  },
  {
   "cell_type": "code",
   "execution_count": null,
   "metadata": {},
   "outputs": [],
   "source": [
    "#이름, 이미지소스, 정가, 할인가, 할인율, 평점, 리뷰수, 링크\n",
    "\n",
    "for  food_page in food_pages:\n",
    "\n",
    "    index = food_pages.index(food_page)\n",
    "\n",
    "    category = food_category_list[index//27]\n",
    "\n",
    "\n",
    "\n",
    "    for food in food_page:\n",
    "        \n",
    "        # 종류 \n",
    "        print(category)\n",
    "\n",
    "\n",
    "        #링크\n",
    "        list_url = food.find('a', {'class':'search-product-link'})['href']\n",
    "        link = f'coupang.com/{list_url}'\n",
    "        print(link)\n",
    "\n",
    "        #상품 이름\n",
    "        name = food.find('div', {'class':'name'}).text.strip()\n",
    "        print(name)\n",
    "        \n",
    "        #이미지 소스\n",
    "        img = food.find('img', {'class':'search-product-wrap-img'})['src']\n",
    "        \n",
    "        #정가,할인가,할인율\n",
    "        base_price = food.find('del', {'class':'base-price'})\n",
    "        discount_rate = food.find('span', {'class':'instant-discount-rate'})\n",
    "        final_price = food.find('strong', {'class':'price-value'}).text\n",
    "\n",
    "        if discount_rate != None:\n",
    "\n",
    "            discount_rate = discount_rate.text.replace('%','')\n",
    "            base_price = base_price.text.strip()\n",
    "\n",
    "            print(base_price)\n",
    "            print(f'할인율 : {discount_rate}%')\n",
    "            print(final_price)\n",
    "        \n",
    "        else:\n",
    "\n",
    "            print(final_price)\n",
    "            print(f'할인율 : 0%')\n",
    "        \n",
    "        #리뷰개수\n",
    "        bracket = str.maketrans('()','  ')\n",
    "        review_count = food.find('span', {'class':'rating-total-count'})\n",
    "        if review_count == None :\n",
    "            print('리뷰 : 0')\n",
    "        else:\n",
    "            review_count = review_count.text.translate(bracket).strip()\n",
    "            product_reviews = review_count\n",
    "\n",
    "            print(f'리뷰: {review_count}')\n",
    "        #평점\n",
    "        rate = food.find('em', {'class':'rating'})\n",
    "\n",
    "        if rate == None:\n",
    "\n",
    "            product_rate = 0\n",
    "            \n",
    "            print('평점 : 0')\n",
    "\n",
    "        else:\n",
    "\n",
    "            rate = rate.text\n",
    "            product_rate = rate\n",
    "\n",
    "            print(f'평점 : {rate}')\n",
    "        print('-------------------------------------')\n",
    "        print('-------------------------------------')\n",
    "\n"
   ]
  },
  {
   "cell_type": "code",
   "execution_count": null,
   "metadata": {},
   "outputs": [],
   "source": []
  }
 ],
 "metadata": {
  "interpreter": {
   "hash": "234f052233c79be27f5745c4191e287b35d01345535f738f4df81500e83027b7"
  },
  "kernelspec": {
   "display_name": "Python 3.9.7 ('pyenv39')",
   "language": "python",
   "name": "python3"
  },
  "language_info": {
   "codemirror_mode": {
    "name": "ipython",
    "version": 3
   },
   "file_extension": ".py",
   "mimetype": "text/x-python",
   "name": "python",
   "nbconvert_exporter": "python",
   "pygments_lexer": "ipython3",
   "version": "3.9.7"
  },
  "orig_nbformat": 4
 },
 "nbformat": 4,
 "nbformat_minor": 2
}
